{
 "cells": [
  {
   "cell_type": "code",
   "execution_count": null,
   "id": "1ac5e822",
   "metadata": {},
   "outputs": [],
   "source": [
    "import numpy as np\n",
    "import matplotlib.pyplot as plt\n",
    "import matplotlib.gridspec as gridspec"
   ]
  },
  {
   "cell_type": "code",
   "execution_count": null,
   "id": "0e09c46b",
   "metadata": {},
   "outputs": [],
   "source": [
    "path = '/Users/muzaffar/32_items/photas_32'"
   ]
  },
  {
   "cell_type": "code",
   "execution_count": null,
   "id": "36ae4d1a",
   "metadata": {},
   "outputs": [],
   "source": [
    "def scaledata(datain, minval, maxval):\n",
    "    dataout = datain - np.min(datain)\n",
    "    dataout = (dataout / np.ptp(dataout)) * (maxval - minval)\n",
    "    dataout = dataout + minval\n",
    "    return dataout"
   ]
  },
  {
   "cell_type": "code",
   "execution_count": null,
   "id": "17ddc4f6",
   "metadata": {},
   "outputs": [],
   "source": [
    "def unpickle(file):\n",
    "    import pickle\n",
    "    with open(file, 'rb') as fo:\n",
    "        dict = pickle.load(fo, encoding='bytes')\n",
    "    return dict"
   ]
  },
  {
   "cell_type": "code",
   "execution_count": null,
   "id": "df6246dd",
   "metadata": {},
   "outputs": [],
   "source": [
    "file = path + 'data_batch_1'\n",
    "data_batch_1 = unpickle(file)"
   ]
  },
  {
   "cell_type": "code",
   "execution_count": null,
   "id": "2841a2cb",
   "metadata": {},
   "outputs": [],
   "source": [
    "meta_file = path + 'batches.meta'\n",
    "meta_data = unpickle(meta_file)"
   ]
  },
  {
   "cell_type": "code",
   "execution_count": null,
   "id": "0209bb08",
   "metadata": {},
   "outputs": [],
   "source": [
    "print(data_batch_1.keys())"
   ]
  },
  {
   "cell_type": "code",
   "execution_count": null,
   "id": "379a6647",
   "metadata": {},
   "outputs": [],
   "source": [
    "images = data_batch_1[b'data']\n",
    "images = images.reshape(len(images),3,32,32).transpose(0,2,3,1)"
   ]
  },
  {
   "cell_type": "code",
   "execution_count": null,
   "id": "db719af6",
   "metadata": {},
   "outputs": [],
   "source": [
    "labels = np.array(data_batch_1[b'labels'])\n",
    "label_names = meta_data[b'label_names']"
   ]
  },
  {
   "cell_type": "code",
   "execution_count": null,
   "id": "15b00cfc",
   "metadata": {},
   "outputs": [],
   "source": [
    "for i in range(len(label_names)):\n",
    "    label_names[i] = label_names[i].decode()"
   ]
  },
  {
   "cell_type": "code",
   "execution_count": null,
   "id": "3f992030",
   "metadata": {},
   "outputs": [],
   "source": [
    "count_of_class = len(label_names)"
   ]
  },
  {
   "cell_type": "code",
   "execution_count": null,
   "id": "24d739dd",
   "metadata": {},
   "outputs": [],
   "source": [
    "sum(labels == 5)"
   ]
  },
  {
   "cell_type": "code",
   "execution_count": null,
   "id": "6b6be1b3",
   "metadata": {},
   "outputs": [],
   "source": [
    "def pretty_axis(plt, ax):\n",
    "    ax.set_yticklabels([])\n",
    "    ax.set_xticklabels([])\n",
    "    ax.set_axis_off()\n",
    "    plt.tick_params(\n",
    "        left=False,\n",
    "        bottom=False,      # ticks along the bottom edge are off\n",
    "        top=False,         # ticks along the top edge are off\n",
    "        labelbottom=False\n",
    "    ) # labels along the bottom edge are off"
   ]
  },
  {
   "cell_type": "code",
   "execution_count": null,
   "id": "4b9b7f55",
   "metadata": {},
   "outputs": [],
   "source": [
    "gg = '123456'"
   ]
  },
  {
   "cell_type": "code",
   "execution_count": null,
   "id": "b31b791f",
   "metadata": {},
   "outputs": [],
   "source": [
    "gg[:5]"
   ]
  },
  {
   "cell_type": "code",
   "execution_count": null,
   "id": "0f31b84c",
   "metadata": {},
   "outputs": [],
   "source": [
    "def short_label(lbl, n):\n",
    "    result = lbl\n",
    "    if len(lbl) > n:\n",
    "        result = lbl[:n]+'.'\n",
    "    return result"
   ]
  },
  {
   "cell_type": "code",
   "execution_count": null,
   "id": "45691bfe",
   "metadata": {},
   "outputs": [],
   "source": [
    "fig = plt.figure(figsize=(count_of_class,2))\n",
    "gs = gridspec.GridSpec(4,count_of_class, figure=fig)\n",
    "\n",
    "for i in range(count_of_class):\n",
    "    idx = np.random.choice(np.where(labels == i)[0],1)[0]\n",
    "    image = images[idx]\n",
    "    ax0 = fig.add_subplot(gs[2, i])\n",
    "    ax0.imshow(image)\n",
    "    pretty_axis(plt,ax0)\n",
    "    \n",
    "    ax1 = fig.add_subplot(gs[0, i])\n",
    "    ax1.text(0.5, 0.5, labels[idx], fontsize=12,ha='center', va='center')\n",
    "    pretty_axis(plt,ax1)\n",
    "    \n",
    "    name = short_label(label_names[labels[idx]],6)\n",
    "    ax2 = fig.add_subplot(gs[1, i])\n",
    "    ax2.text(0.5, 0.5, name, fontsize=12,ha='center', va='center')\n",
    "    pretty_axis(plt,ax2)\n",
    "    \n",
    "    ax3 = fig.add_subplot(gs[3, i])\n",
    "    ax3.text(0.5, 0.5, sum(labels == i), fontsize=12,ha='center', va='center')\n",
    "    pretty_axis(plt,ax3)"
   ]
  },
  {
   "cell_type": "code",
   "execution_count": null,
   "id": "0eab99f9",
   "metadata": {},
   "outputs": [],
   "source": [
    "min_images_in_class = 10000\n",
    "for i in range(count_of_class):\n",
    "    size_of_class = sum(labels == i)\n",
    "    if (min_images_in_class > size_of_class):\n",
    "        min_images_in_class = size_of_class"
   ]
  },
  {
   "cell_type": "code",
   "execution_count": null,
   "id": "cd408e21",
   "metadata": {},
   "outputs": [],
   "source": [
    "min_images_in_class"
   ]
  },
  {
   "cell_type": "code",
   "execution_count": null,
   "id": "64de1169",
   "metadata": {},
   "outputs": [],
   "source": [
    "# https://stackoverflow.com/questions/12201577/how-can-i-convert-an-rgb-image-into-grayscale-in-python\n",
    "\n",
    "def rgb2gray(rgb):\n",
    "    r, g, b = rgb[:,:,0], rgb[:,:,1], rgb[:,:,2]\n",
    "    gray = 0.2989 * r + 0.5870 * g + 0.1140 * b\n",
    "    return gray\n",
    "\n",
    "test_image_index = 1\n",
    "test_image = images[test_image_index]\n",
    "fig = plt.figure(figsize=(2, 2))\n",
    "ax1 = fig.add_subplot(1, 2, 1)\n",
    "ax1.set_title('colored\\n' + label_names[labels[test_image_index]])\n",
    "plt.imshow(test_image)\n",
    "\n",
    "ax1.set_yticklabels([])\n",
    "ax1.set_xticklabels([])\n",
    "\n",
    "gray_test_image = rgb2gray(test_image)\n",
    "ax2 = fig.add_subplot(1, 2, 2)\n",
    "plt.imshow(gray_test_image, cmap='gray')\n",
    "ax2.set_title('gray\\n' + label_names[labels[test_image_index]])\n",
    "ax2.set_yticklabels([])\n",
    "ax2.set_xticklabels([])"
   ]
  },
  {
   "cell_type": "markdown",
   "source": [],
   "metadata": {
    "collapsed": false
   },
   "id": "9e30e9e8c64093d4"
  },
  {
   "cell_type": "code",
   "execution_count": null,
   "id": "235babcd",
   "metadata": {},
   "outputs": [],
   "source": [
    "D = np.empty((count_of_class, min_images_in_class), dtype=object)\n",
    "\n",
    "for i in range(count_of_class):\n",
    "    idxs = np.where(labels == i)[0]\n",
    "    for j, image_index in enumerate(idxs):\n",
    "        if (j < min_images_in_class):\n",
    "            D[i, j] = scaledata(rgb2gray(images[image_index]),0,1)\n",
    "        else:\n",
    "            break;"
   ]
  },
  {
   "cell_type": "code",
   "execution_count": null,
   "id": "c25a6308",
   "metadata": {},
   "outputs": [],
   "source": [
    "wdth = D[0, 0].shape[0]\n",
    "hdth = D[0, 0].shape[1]\n",
    "\n",
    "n = wdth * hdth\n",
    "N = count_of_class * min_images_in_class\n",
    "\n",
    "X = np.zeros((n, N))\n",
    "k = 0\n",
    "for i in range(count_of_class):\n",
    "    for j in range(min_images_in_class):\n",
    "        X[:, k] = np.reshape(D[i, j], (wdth*hdth, 1)).T\n",
    "        k += 1\n",
    "\n",
    "ones_vector = np.ones((X.shape[1], 1))\n",
    "Xt = X - X.dot(ones_vector).dot(ones_vector.T)/N"
   ]
  },
  {
   "cell_type": "code",
   "execution_count": null,
   "id": "10d462ea",
   "metadata": {},
   "outputs": [],
   "source": [
    "bottle_nack = 0.3\n",
    "p = int(bottle_nack * n)"
   ]
  },
  {
   "cell_type": "code",
   "execution_count": null,
   "id": "21f9bea3",
   "metadata": {},
   "outputs": [],
   "source": [
    "p"
   ]
  },
  {
   "cell_type": "code",
   "execution_count": null,
   "id": "2e8fcf38",
   "metadata": {},
   "outputs": [],
   "source": [
    "U, S, V = np.linalg.svd(Xt, full_matrices=False)\n",
    "\n",
    "UU = U[:, :p]\n",
    "#T = np.random.rand(p, p) * 0.01\n",
    "T = np.eye(p,p) * 0.001"
   ]
  },
  {
   "cell_type": "code",
   "execution_count": null,
   "id": "d7b772b3",
   "metadata": {},
   "outputs": [],
   "source": [
    "# https://ru.wikipedia.org/wiki/Функция_Хевисайда\n",
    "# https://ru.wikipedia.org/wiki/Функция_активации\n",
    "\n",
    "def activation(u):\n",
    "    coeff_a = 0\n",
    "    dx = 0.0000001\n",
    "    coeff_k1 = 10/dx #0.5\n",
    "    retval = 1 / (1 + np.exp(-2.0 * coeff_k1 * (u + coeff_a)))\n",
    "    return retval\n",
    "\n",
    "coeff_a = 0;\n",
    "dx = 0.0000001\n",
    "coeff_k1 = 10/dx\n",
    "\n",
    "alpha0 = 1 / (np.exp(-2*coeff_a*coeff_k1) + 1);\n",
    "alpha1 = 2 * coeff_k1 * np.exp(2*coeff_a*coeff_k1) / ( np.exp(2*coeff_a*coeff_k1) + 1 )**2;"
   ]
  },
  {
   "cell_type": "code",
   "execution_count": null,
   "id": "00ce9ed2",
   "metadata": {},
   "outputs": [],
   "source": [
    "W1 = (1/alpha1) * T @ UU.T\n",
    "W2 = UU @ np.linalg.inv(T)\n",
    "\n",
    "w1 = -(1/alpha1) * T @ UU.T @ (X @ np.ones((N, 1)) / N)\n",
    "w2 = (np.eye(n) - UU @ UU.T) @ (X @ np.ones((N, 1)) / N) - alpha0 * UU @ np.linalg.inv(T) @ np.ones((p, 1)) - alpha1 * UU @ np.linalg.inv(T) @ w1\n"
   ]
  },
  {
   "cell_type": "code",
   "execution_count": null,
   "id": "38a8abc9",
   "metadata": {},
   "outputs": [],
   "source": [
    "XX = np.empty((hdth, 0))\n",
    "YY = np.empty((hdth, 0))\n",
    "\n",
    "fig, ((ax1), (ax2)) = plt.subplots(2, 1,figsize=(10, 2), dpi=180)\n",
    "\n",
    "for digit in range(10):\n",
    "    image_num = np.random.randint(min_images_in_class)\n",
    "    B = np.dot(W1, D[digit, image_num].reshape(n, 1)) + w1\n",
    "    H = activation(B)\n",
    "    Y = np.dot(W2, H) + w2\n",
    "    XX = np.hstack((XX, D[digit, image_num].reshape(wdth, hdth)))\n",
    "    YY = np.hstack((YY, Y.reshape(wdth, hdth)))\n",
    "    \n",
    "ax1.imshow(XX, cmap='gray', aspect='equal')\n",
    "ax1.axis('off')\n",
    "ax2.imshow(YY, cmap='gray', aspect='equal')\n",
    "ax2.axis('off')"
   ]
  },
  {
   "cell_type": "code",
   "execution_count": null,
   "id": "58f70930",
   "metadata": {},
   "outputs": [],
   "source": []
  }
 ],
 "metadata": {
  "kernelspec": {
   "display_name": "Python 3 (ipykernel)",
   "language": "python",
   "name": "python3"
  },
  "language_info": {
   "codemirror_mode": {
    "name": "ipython",
    "version": 3
   },
   "file_extension": ".py",
   "mimetype": "text/x-python",
   "name": "python",
   "nbconvert_exporter": "python",
   "pygments_lexer": "ipython3",
   "version": "3.10.9"
  }
 },
 "nbformat": 4,
 "nbformat_minor": 5
}
