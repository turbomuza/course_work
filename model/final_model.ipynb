{
  "cells": [
    {
      "cell_type": "code",
      "execution_count": 87,
      "metadata": {
        "colab": {
          "base_uri": "https://localhost:8080/"
        },
        "id": "yyP5RwcoJy1o",
        "outputId": "5e1d5f57-ed6d-4c28-ff48-7745c15fcbda"
      },
      "outputs": [],
      "source": [
        "import numpy as np\n",
        "import matplotlib.pyplot as plt\n",
        "import matplotlib.gridspec as gridspec\n",
        "import pickle\n",
        "\n"
      ]
    },
    {
      "cell_type": "code",
      "execution_count": null,
      "metadata": {},
      "outputs": [],
      "source": [
        "A = np.array([[1, 2, 3], [4, 5, 6], [7, 8, 9]])\n",
        "\n",
        "m = A.shape[0]\n",
        "\n",
        "np.random.seed(0)\n",
        "N = np.random.randn(A.shape[0], A.shape[1])\n",
        "G = np.random.randn(A.shape[0], A.shape[1])\n",
        "\n",
        "learning_rate = 0.01\n",
        "iterations = 10000\n",
        "\n",
        "\n",
        "\n",
        "N = np.random.randn(m, m)\n",
        "G = np.random.randn(m, m)\n",
        "\n",
        "learning_rate = 0.001\n",
        "\n",
        "U, S, Vt = np.linalg.svd(A, full_matrices=False)\n",
        "\n",
        "\n",
        "for _ in range(iterations):\n",
        "    Z = N @ A  # Z = NT * A\n",
        "    Y = G @ Z  # Y = G * Z\n",
        "    \n",
        "    dG = (Y - A) @ Z.T\n",
        "    dN = G.T @ (Y - A) @ A.T\n",
        "\n",
        "    G -= learning_rate * dG\n",
        "    N -= learning_rate * dN\n",
        "\n",
        "U_approx = G\n",
        "\n",
        "frobenius_norm = np.linalg.norm(U - U_approx, 'fro')\n",
        "\n",
        "U, U_approx, frobenius_norm"
      ]
    },
    {
      "cell_type": "code",
      "execution_count": null,
      "metadata": {},
      "outputs": [],
      "source": [
        "import numpy as np\n",
        "\n",
        "def initialize_weights(rows, cols):\n",
        "    return np.random.randn(rows, cols) * 0.01, np.random.randn(cols, rows) * 0.01\n",
        "\n",
        "def dgha_update_adam(G, N, P, learning_rate=0.001, beta1=0.5, beta2=0.9, epsilon=1e-8):\n",
        "    U = np.dot(G, P)\n",
        "    V = np.dot(N.T, U)\n",
        "    \n",
        "    m_G = np.zeros_like(G)\n",
        "    v_G = np.zeros_like(G)\n",
        "    m_N = np.zeros_like(N)\n",
        "    v_N = np.zeros_like(N)\n",
        "    \n",
        "    G_delta = np.zeros_like(G)\n",
        "    N_delta = np.zeros_like(N)\n",
        "    \n",
        "    for i in range(U.shape[1]):\n",
        "        grad_G = np.outer(V[:, i], U[:, i]) - np.dot(np.outer(V[:, i], V[:, i].T), G)\n",
        "        grad_N = np.outer(V[:, i], P[:, i]) - np.dot(np.outer(V[:, i], V[:, i].T), N.T)\n",
        "        \n",
        "        m_G = beta1 * m_G + (1 - beta1) * grad_G\n",
        "        v_G = beta2 * v_G + (1 - beta2) * (grad_G ** 2)\n",
        "        m_N = beta1 * m_N + (1 - beta1) * grad_N\n",
        "        v_N = beta2 * v_N + (1 - beta2) * (grad_N ** 2)\n",
        "        \n",
        "        m_G_hat = m_G / (1 - beta1 ** (i + 1))\n",
        "        v_G_hat = v_G / (1 - beta2 ** (i + 1))\n",
        "        m_N_hat = m_N / (1 - beta1 ** (i + 1))\n",
        "        v_N_hat = v_N / (1 - beta2 ** (i + 1))\n",
        "        \n",
        "        G_delta += learning_rate * m_G_hat / (np.sqrt(v_G_hat) + epsilon)\n",
        "        N_delta += learning_rate * m_N_hat / (np.sqrt(v_N_hat) + epsilon)\n",
        "    \n",
        "    G += G_delta\n",
        "    N += N_delta\n",
        "    \n",
        "    return G, N\n",
        "\n",
        "P = np.array([[1, 2, 3], [4, 5, 6], [7, 8, 9]], dtype=float)\n",
        "P = P / np.linalg.norm(P)  # Нормализация P\n",
        "G, N = initialize_weights(3, 3)\n",
        "\n",
        "for _ in range(500000):\n",
        "    G, N = dgha_update_adam(G, N, P, learning_rate=1e-8, beta1=0.99, beta2=0.99)\n",
        "\n",
        "\n",
        "print(\"G:\\n\", G)\n",
        "print(\"N:\\n\", N)\n",
        "print(\"Approximate P^-1 or I:\\n\", np.dot(N, G))\n",
        "bound = \"===\"\n",
        "print(f\" {bound * 30} RESULTS {bound * 30}\")\n",
        "\n",
        "\n",
        "U_svd, _, _ = np.linalg.svd(P)\n",
        "\n",
        "U_alg = np.dot(N, G)\n",
        "\n",
        "difference_norm_U = np.linalg.norm(U_alg - U_svd)\n",
        "\n",
        "print(\"Difference norm between U from algorithm and U from SVD:\", difference_norm_U)\n"
      ]
    },
    {
      "cell_type": "code",
      "execution_count": null,
      "metadata": {},
      "outputs": [],
      "source": [
        "U, S, VT = np.linalg.svd(P)\n",
        "P_reconstructed = np.dot(U, np.dot(np.diag(S), VT))\n",
        "NG = np.dot(N, G)\n",
        "print(\"NG reconstructed:\\n\", NG)\n",
        "print(\"Original P reconstructed from SVD:\\n\", P_reconstructed)\n",
        "\n",
        "difference_norm = np.linalg.norm(P_reconstructed - NG)\n",
        "print(\"Difference norm:\", difference_norm)\n"
      ]
    },
    {
      "cell_type": "code",
      "execution_count": 179,
      "metadata": {
        "id": "WGF0QxHzRObR"
      },
      "outputs": [],
      "source": [
        "def scaledata(datain, minval, maxval):\n",
        "    datain = datain.astype(float)  # Явное приведение к типу float\n",
        "    dataout = datain - np.min(datain)\n",
        "    dataout = (dataout / np.ptp(dataout)) * (maxval - minval)\n",
        "    dataout = dataout + minval\n",
        "    return dataout"
      ]
    },
    {
      "cell_type": "code",
      "execution_count": 175,
      "metadata": {
        "id": "iF5Bheo337b1"
      },
      "outputs": [],
      "source": [
        "def rgb2gray(rgb):\n",
        "    datain = datain.astype(float)\n",
        "    r, g, b = rgb[:,:,0], rgb[:,:,1], rgb[:,:,2]\n",
        "    gray = 0.2989 * r + 0.5870 * g + 0.1140 * b\n",
        "    return gray"
      ]
    },
    {
      "cell_type": "code",
      "execution_count": 161,
      "metadata": {
        "id": "W47uTAArRq3k"
      },
      "outputs": [],
      "source": [
        "import pickle\n",
        "\n",
        "def unpickle(file):\n",
        "    import pickle\n",
        "    with open(file, 'rb') as fo:\n",
        "        dict = pickle.load(fo, encoding='bytes')\n",
        "    return dict"
      ]
    },
    {
      "cell_type": "code",
      "execution_count": 163,
      "metadata": {
        "id": "CsehXp9BJYog"
      },
      "outputs": [],
      "source": [
        "path = '/Users/turbomuza/Documents/diplom/'"
      ]
    },
    {
      "cell_type": "code",
      "execution_count": null,
      "metadata": {
        "colab": {
          "base_uri": "https://localhost:8080/"
        },
        "id": "SaORq_S1RyrD",
        "outputId": "818d5fec-8b75-4d3e-9448-b84edafc5231"
      },
      "outputs": [],
      "source": [
        "meta_file = path + 'batches.meta'\n",
        "metadata = unpickle(meta_file)\n",
        "\n",
        "for x, y in metadata.items():\n",
        "  print(f\"{x}:{y}\")"
      ]
    },
    {
      "cell_type": "code",
      "execution_count": null,
      "metadata": {
        "colab": {
          "base_uri": "https://localhost:8080/",
          "height": 292
        },
        "id": "5Pug4CqvSPn6",
        "outputId": "861b4ae9-1a2f-4528-b38b-29cdf51ea061"
      },
      "outputs": [],
      "source": [
        "data_file = path + 'data_batch_1'\n",
        "datafile = unpickle(data_file)\n",
        "\n",
        "print([i for i in datafile.keys()])"
      ]
    },
    {
      "cell_type": "code",
      "execution_count": null,
      "metadata": {
        "id": "ihsoy4UmW4TT"
      },
      "outputs": [],
      "source": [
        "import numpy as np\n",
        "import matplotlib.pyplot as plt\n",
        "\n",
        "images = datafile.get('data')\n",
        "images_transposed = np.transpose(images, (0, 2, 1, 3))  # Поменять местами 1-ю и 2-ю оси\n",
        "\n",
        "check_elem = images_transposed[0]\n",
        "print(check_elem)\n",
        "\n",
        "print(f'check_elem = {check_elem.shape}')\n",
        "\n",
        "plt.imshow(check_elem)\n",
        "plt.axis('off')\n",
        "plt.show()\n",
        "print(len(images_transposed))"
      ]
    },
    {
      "cell_type": "code",
      "execution_count": null,
      "metadata": {
        "colab": {
          "base_uri": "https://localhost:8080/"
        },
        "id": "J3b66Pr9VcjJ",
        "outputId": "3c3e1078-a8ec-4c59-e0ba-53aa9439275c"
      },
      "outputs": [],
      "source": [
        "label_name = datafile.get('labels')\n",
        "labels = np.array([0 for i in range(len(label_name))])\n",
        "\n",
        "label_names = metadata['label_names']\n",
        "print(label_names)\n",
        "\n",
        "# print(label_name)\n",
        "# print(labels)\n"
      ]
    },
    {
      "cell_type": "code",
      "execution_count": 168,
      "metadata": {
        "id": "dbI_oG3Ybu6t"
      },
      "outputs": [],
      "source": [
        "def short_label(lbl, n):\n",
        "    result = lbl\n",
        "    if len(lbl) > n:\n",
        "        result = lbl[:n]+'.'\n",
        "    return result\n",
        "\n",
        "\n",
        "def pretty_axis(plt, ax):\n",
        "    ax.set_yticklabels([])\n",
        "    ax.set_xticklabels([])\n",
        "    ax.set_axis_off()\n",
        "    plt.tick_params(\n",
        "        left=False,\n",
        "        bottom=False,      # ticks along the bottom edge are off\n",
        "        top=False,         # ticks along the top edge are off\n",
        "        labelbottom=False\n",
        "    ) # labels along the bottom edge are off"
      ]
    },
    {
      "cell_type": "code",
      "execution_count": null,
      "metadata": {
        "colab": {
          "base_uri": "https://localhost:8080/"
        },
        "id": "ADmrzuQ_b_jx",
        "outputId": "172c482b-87c5-496c-bd35-aa70a72b647a"
      },
      "outputs": [],
      "source": [
        "count_of_class = 1\n",
        "\n",
        "print(count_of_class)"
      ]
    },
    {
      "cell_type": "code",
      "execution_count": null,
      "metadata": {
        "colab": {
          "base_uri": "https://localhost:8080/",
          "height": 115
        },
        "id": "FsxHU1vob4vl",
        "outputId": "884662fe-a4ea-4417-eedb-f2d87c609f64"
      },
      "outputs": [],
      "source": [
        "fig = plt.figure(figsize=(count_of_class, 1))\n",
        "gs = gridspec.GridSpec(4,count_of_class, figure=fig)\n",
        "\n",
        "for i in range(count_of_class):\n",
        "    idx = np.random.choice(np.where(labels == i)[0],1)[0]\n",
        "    image = images[idx]\n",
        "    ax0 = fig.add_subplot(gs[2, i])\n",
        "    ax0.imshow(image)\n",
        "    pretty_axis(plt,ax0)\n",
        "\n",
        "    ax1 = fig.add_subplot(gs[0, i])\n",
        "    ax1.text(0.5, 0.5, labels[idx], fontsize=12,ha='center', va='center')\n",
        "    pretty_axis(plt,ax1)\n",
        "\n",
        "    name = short_label(label_names[labels[idx]],6)\n",
        "    ax2 = fig.add_subplot(gs[1, i])\n",
        "    ax2.text(0.5, 0.5, name, fontsize=12,ha='center', va='center')\n",
        "    pretty_axis(plt,ax2)\n",
        "\n",
        "    ax3 = fig.add_subplot(gs[3, i])\n",
        "    ax3.text(0.5, 0.5, sum(labels == i), fontsize=12,ha='center', va='center')\n",
        "    pretty_axis(plt,ax3)"
      ]
    },
    {
      "cell_type": "code",
      "execution_count": 171,
      "metadata": {
        "id": "Xr1_mZLFbx8J"
      },
      "outputs": [],
      "source": [
        "def short_label(lbl, n):\n",
        "    result = lbl\n",
        "    if len(lbl) > n:\n",
        "        result = lbl[:n]+'.'\n",
        "    return result"
      ]
    },
    {
      "cell_type": "code",
      "execution_count": null,
      "metadata": {
        "colab": {
          "base_uri": "https://localhost:8080/"
        },
        "id": "QhShWQSuYnNp",
        "outputId": "92a414de-5ea7-44c3-c529-d7b9eab9dcd4"
      },
      "outputs": [],
      "source": [
        "min_images_in_class = 1e7\n",
        "for i in range(count_of_class):\n",
        "    size_of_class = sum(labels == i)\n",
        "    if (min_images_in_class > size_of_class):\n",
        "        min_images_in_class = size_of_class\n",
        "\n",
        "print(min_images_in_class)\n",
        "min_images_in_class = 5"
      ]
    },
    {
      "cell_type": "code",
      "execution_count": null,
      "metadata": {
        "colab": {
          "base_uri": "https://localhost:8080/",
          "height": 357
        },
        "id": "P7pJ5cc7ex3E",
        "outputId": "c47d54e7-2346-4109-8fe8-562649b762e7"
      },
      "outputs": [],
      "source": [
        "test_image_index = 1\n",
        "test_image = images[test_image_index]\n",
        "fig = plt.figure(figsize=(6, 4))\n",
        "ax1 = fig.add_subplot(1, 2, 1)\n",
        "ax1.set_title('colored\\n' + label_names[labels[test_image_index]])\n",
        "plt.imshow(test_image)\n",
        "\n",
        "ax1.set_yticklabels([])\n",
        "ax1.set_xticklabels([])\n",
        "\n",
        "gray_test_image = rgb2gray(test_image)\n",
        "ax2 = fig.add_subplot(1, 2, 2)\n",
        "plt.imshow(gray_test_image, cmap='gray')\n",
        "ax2.set_title('gray\\n' + label_names[labels[test_image_index]])\n",
        "ax2.set_yticklabels([])\n",
        "ax2.set_xticklabels([])\n",
        "\n",
        "plt.tight_layout()\n",
        "plt.show()"
      ]
    },
    {
      "cell_type": "code",
      "execution_count": null,
      "metadata": {},
      "outputs": [],
      "source": [
        "len(labels == 0)"
      ]
    },
    {
      "cell_type": "code",
      "execution_count": 151,
      "metadata": {},
      "outputs": [],
      "source": [
        "bottle_nack = 0.3\n",
        "p = 100"
      ]
    },
    {
      "cell_type": "code",
      "execution_count": null,
      "metadata": {},
      "outputs": [],
      "source": [
        "D = np.empty((count_of_class, min_images_in_class), dtype=object)\n",
        "\n",
        "for i in range(count_of_class):\n",
        "    idxs = np.where(labels == i)[0]\n",
        "    for j, image_index in enumerate(idxs):\n",
        "        if (j < min_images_in_class):\n",
        "            print(\"===\")\n",
        "            print(scaledata(rgb2gray(images[image_index]),0,1))\n",
        "            D[i, j] = scaledata(rgb2gray(images[image_index]),0,1)\n",
        "        else:\n",
        "            break\n",
        "\n",
        "print(D)"
      ]
    },
    {
      "cell_type": "code",
      "execution_count": null,
      "metadata": {},
      "outputs": [],
      "source": [
        "D = np.empty((count_of_class, min_images_in_class), dtype=object)\n",
        "\n",
        "idxs = np.where(labels == 0)[0]\n",
        "print(idxs)\n",
        "for j, image_index in enumerate(idxs):\n",
        "    if image_index > 4:\n",
        "            # print(f\"counter == {counter}\")\n",
        "        break\n",
        "    if (j <= 4):\n",
        "        D[i, j] = scaledata(rgb2gray(images_transposed[image_index]), 0, 1)\n",
        "        print(\"====\")\n",
        "    else:\n",
        "        break\n",
        "\n",
        "print(D)\n",
        "\n",
        "wdth = D[0, 0].shape[0]\n",
        "hdth = D[0, 0].shape[1]\n",
        "n = wdth * hdth\n",
        "N = count_of_class * min_images_in_class\n",
        "\n",
        "\n",
        "X = np.zeros((n, N))\n",
        "k = 0\n",
        "for i in range(count_of_class):\n",
        "    for j in range(min_images_in_class):\n",
        "        X[:, k] = np.reshape(D[i, j], (wdth*hdth, 1)).T\n",
        "        k += 1\n",
        "\n",
        "ones_vector = np.ones((X.shape[1], 1))\n",
        "Xt = X - X.dot(ones_vector).dot(ones_vector.T) / N\n",
        "print(Xt)"
      ]
    },
    {
      "cell_type": "code",
      "execution_count": null,
      "metadata": {},
      "outputs": [],
      "source": [
        "UU = U_approx\n",
        "T = np.eye(UU.shape[1]) * 0.001\n",
        "\n",
        "\n",
        "\n",
        "print(f\"U == {U.shape}\")\n",
        "print(f\"S == {S.shape}\")\n",
        "print(f\"V == {V.shape}\")\n",
        "print(f\"UU == {UU.shape}\")\n",
        "print(f'T.shape == {T.shape}')\n",
        "\n",
        "def activation(u):\n",
        "    coeff_a = 0\n",
        "    dx = 0.0000001\n",
        "    # coeff_k1 = 10/dx #0.5\n",
        "    coeff_k1 = 0.5\n",
        "    retval = 1 / (1 + np.exp(-2.0 * coeff_k1 * (u + coeff_a)))\n",
        "    return retval\n",
        "\n",
        "coeff_a = 0;\n",
        "dx = 0.0000001\n",
        "coeff_k1 = 10/dx\n",
        "\n",
        "alpha0 = 1 / (np.exp(-2*coeff_a*coeff_k1) + 1);\n",
        "alpha1 = 2 * coeff_k1 * np.exp(2*coeff_a*coeff_k1) / ( np.exp(2*coeff_a*coeff_k1) + 1 )**2;\n",
        "\n",
        "print(np.ones((p, 1)).shape)\n",
        "print(np.linalg.inv(T).shape)\n",
        "\n",
        "W1 = (1/alpha1) * T @ UU.T\n",
        "print(f'W1.shape == {W1.shape}')\n",
        "W2 = UU @ np.linalg.inv(T)\n",
        "print(f'W2.shape == {W2.shape}')\n",
        "\n",
        "w1 = -(1/alpha1) * T @ UU.T @ (X @ np.ones((N, 1)) / N)\n",
        "print(f'w1.shape == {w1.shape}')\n",
        "# w2 = (np.eye(n) - UU @ UU.T) @ (X @ np.ones((N, 1)) / N) - alpha0 * UU @ np.linalg.inv(T) @ np.ones((p, 1)) - alpha1 * UU @ np.linalg.inv(T) @ w1\n",
        "temp_w2 = (np.eye(UU.shape[0]) - UU @ UU.T) @ (X @ np.ones((N, 1)) / N)\n",
        "w2 = temp_w2.T - alpha0 * (UU @ np.linalg.inv(T) @ np.ones((UU.shape[1], 1))) - alpha1 * (UU @ np.linalg.inv(T) @ w1)"
      ]
    },
    {
      "cell_type": "code",
      "execution_count": null,
      "metadata": {},
      "outputs": [],
      "source": [
        "XX = np.empty((hdth, 0))\n",
        "\n",
        "YY = np.empty((hdth, 0))\n",
        "\n",
        "fig, ((ax1), (ax2)) = plt.subplots(2, 1,figsize=(10, 2), dpi=180)\n",
        "\n",
        "for digit in range(1):\n",
        "    image_num = np.random.randint(min_images_in_class)\n",
        "    B = np.dot(W1, D[digit, image_num].reshape(n, 1)) + w1\n",
        "    H = activation(B)\n",
        "    Y = np.dot(W2, H) + w2\n",
        "    XX = np.hstack((XX, D[digit, image_num].reshape(wdth, hdth)))\n",
        "    YY = np.reshape(Y, (hdth, wdth, -1))\n",
        "\n",
        "ax1.imshow(XX, cmap='gray', aspect='equal')\n",
        "ax1.axis('off')\n",
        "ax2.imshow(YY[:, :, 0], cmap='gray', aspect='equal')\n",
        "ax2.axis('off')"
      ]
    },
    {
      "cell_type": "code",
      "execution_count": 16,
      "metadata": {},
      "outputs": [],
      "source": [
        "D = np.empty((count_of_class, min_images_in_class), dtype=object)\n",
        "\n",
        "for i in range(count_of_class):\n",
        "    idxs = np.where(labels == i)[0]\n",
        "    for j, image_index in enumerate(idxs):\n",
        "        if (j < min_images_in_class):\n",
        "            D[i, j] = scaledata(rgb2gray(images[image_index]),0,1)\n",
        "        else:\n",
        "            break;"
      ]
    },
    {
      "cell_type": "code",
      "execution_count": null,
      "metadata": {},
      "outputs": [],
      "source": [
        "import numpy as np\n",
        "from sklearn.decomposition import IncrementalPCA\n",
        "\n",
        "count_of_class = 1\n",
        "min_images_in_class = 1078\n",
        "batch_size = 100\n",
        "p = 100\n",
        "wdth = D[0, 0].shape[0]\n",
        "hdth = D[0, 0].shape[1]\n",
        "n = wdth * hdth  # wdth и hdth должны быть заданы ранее\n",
        "N = count_of_class * min_images_in_class\n",
        "\n",
        "# Инициализация Incremental PCA\n",
        "ipca = IncrementalPCA(n_components=p, batch_size=batch_size)\n",
        "\n",
        "# Подготовка данных\n",
        "X = np.zeros((n, batch_size))\n",
        "batch_index = 0\n",
        "T = np.eye(p) * 0.001\n",
        "inv_T = np.linalg.inv(T)\n",
        "alpha1 = 0.001 \n",
        "alpha0 = 0.0001\n",
        "\n",
        "w1_accumulator = np.zeros((p, 1))\n",
        "w2_accumulator = np.zeros((wdth * hdth, 1))\n",
        "batch_count = 0\n",
        "\n",
        "k = 0 \n",
        "\n",
        "for i in range(count_of_class):\n",
        "    for j in range(min_images_in_class):\n",
        "        X[:, batch_index] = np.reshape(D[i, j], (wdth*hdth, 1)).T\n",
        "        batch_index += 1\n",
        "        k += 1\n",
        "        if batch_index == batch_size or k == N:\n",
        "            mean_X = X @ np.ones((batch_index, 1)) / batch_index\n",
        "            Xt = X - mean_X\n",
        "            ipca.partial_fit(Xt.T)\n",
        "\n",
        "            U_approx = ipca.components_.T\n",
        "            w1_batch = -(1 / alpha1) * T @ U_approx.T @ mean_X\n",
        "            temp_w2 = (np.eye(U_approx.shape[0]) - U_approx @ U_approx.T) @ mean_X\n",
        "            w2_batch = temp_w2.T - alpha0 * (U_approx @ inv_T @ np.ones((p, 1))) - alpha1 * (U_approx @ inv_T @ w1_batch)\n",
        "\n",
        "            w1_accumulator += w1_batch\n",
        "            w2_accumulator += w2_batch\n",
        "            batch_count += 1\n",
        "\n",
        "            X = np.zeros((n, batch_size))\n",
        "            batch_index = 0\n",
        "\n",
        "w1 = w1_accumulator / batch_count\n",
        "w2 = w2_accumulator / batch_count\n",
        "\n",
        "print(f'Final w1 shape: {w1.shape}, Final w2 shape: {w2.shape}')\n",
        "\n",
        "\n"
      ]
    },
    {
      "cell_type": "code",
      "execution_count": null,
      "metadata": {},
      "outputs": [],
      "source": [
        "w1_accumulator = np.zeros((p, 1))\n",
        "w2_accumulator = np.zeros((wdth * hdth, 1))\n",
        "\n",
        "for i in range(count_of_class):\n",
        "    for j in range(min_images_in_class):\n",
        "        X[:, batch_index] = np.reshape(D[i, j], (wdth*hdth, 1)).T\n",
        "        batch_index += 1\n",
        "        k += 1\n",
        "        \n",
        "        if batch_index == batch_size or k == N:\n",
        "            mean_X = X @ np.ones((batch_index, 1)) / batch_index\n",
        "            Xt = X - mean_X\n",
        "            ipca.partial_fit(Xt.T)\n",
        "            w1_batch = -(1 / alpha1) * T @ U_approx.T @ mean_X\n",
        "            temp_w2 = (np.eye(U_approx.shape[0]) - U_approx @ U_approx.T) @ mean_X\n",
        "            w2_batch = temp_w2.T - alpha0 * (U_approx @ inv_T @ np.ones((p, 1))) - alpha1 * (U_approx @ inv_T @ w1_batch)\n",
        "\n",
        "            w1_accumulator += w1_batch\n",
        "            w2_accumulator += w2_batch\n",
        "            batch_count += 1\n",
        "\n",
        "            X = np.zeros((n, batch_size))\n",
        "            batch_index = 0"
      ]
    },
    {
      "cell_type": "code",
      "execution_count": 19,
      "metadata": {
        "id": "JcvpooWGft7j"
      },
      "outputs": [],
      "source": [
        "bottle_nack = 0.3\n",
        "p = 100"
      ]
    },
    {
      "cell_type": "code",
      "execution_count": null,
      "metadata": {
        "colab": {
          "base_uri": "https://localhost:8080/"
        },
        "id": "vvbqNM-_gEkO",
        "outputId": "4546ea62-cb87-4d16-913a-ad0601c76271"
      },
      "outputs": [],
      "source": [
        "import numpy as np\n",
        "from scipy.sparse.linalg import svds\n",
        "from scipy.linalg import inv, solve\n",
        "\n",
        "U, S, V = svds(Xt, k=p)\n",
        "\n",
        "UU = U\n",
        "# T = np.random.rand(p, p) * 0.01\n",
        "T = np.eye(p) * 0.001\n",
        "try:\n",
        "    inv_T = inv(T)\n",
        "except np.linalg.LinAlgError:\n",
        "    print(\"lala\")\n",
        "    inv_T = solve(T, np.eye(T.shape[0]))\n"
      ]
    },
    {
      "cell_type": "code",
      "execution_count": 24,
      "metadata": {
        "id": "e9EwbgK_f3lw"
      },
      "outputs": [],
      "source": [
        "def activation(u):\n",
        "    coeff_a = 0\n",
        "    dx = 0.0000001\n",
        "    # coeff_k1 = 10/dx #0.5\n",
        "    coeff_k1 = 0.5\n",
        "    retval = 1 / (1 + np.exp(-2.0 * coeff_k1 * (u + coeff_a)))\n",
        "    return retval\n",
        "\n",
        "coeff_a = 0;\n",
        "dx = 0.0000001\n",
        "coeff_k1 = 10/dx\n",
        "\n",
        "alpha0 = 1 / (np.exp(-2*coeff_a*coeff_k1) + 1);\n",
        "alpha1 = 2 * coeff_k1 * np.exp(2*coeff_a*coeff_k1) / ( np.exp(2*coeff_a*coeff_k1) + 1 )**2;"
      ]
    },
    {
      "cell_type": "code",
      "execution_count": null,
      "metadata": {
        "colab": {
          "base_uri": "https://localhost:8080/"
        },
        "id": "TMuKpq7WFDYy",
        "outputId": "954349f3-7138-4880-93d4-29f3c2dfd297"
      },
      "outputs": [],
      "source": [
        "print(np.ones((p, 1)).shape)\n",
        "print(np.linalg.inv(T).shape)"
      ]
    },
    {
      "cell_type": "code",
      "execution_count": null,
      "metadata": {},
      "outputs": [],
      "source": [
        "W1 = (1/alpha1) * T @ UU.T\n",
        "print(f'W1.shape == {W1.shape}')\n",
        "W2 = U @ np.linalg.inv(T)\n",
        "print(f'W2.shape == {W2.shape}')\n",
        "\n",
        "w1 = -(1/alpha1) * T @ U.T @ (X @ np.ones((N, 1)) / N)\n",
        "print(f'w1.shape == {w1.shape}')\n",
        "# w2 = (np.eye(n) - UU @ UU.T) @ (X @ np.ones((N, 1)) / N) - alpha0 * UU @ np.linalg.inv(T) @ np.ones((p, 1)) - alpha1 * UU @ np.linalg.inv(T) @ w1\n",
        "temp_w2 = (np.eye(U.shape[0]) - U @ U.T) @ (X @ np.ones((N, 1)) / N)\n",
        "w2 = temp_w2.T - alpha0 * (U @ np.linalg.inv(T) @ np.ones((p, 1))) - alpha1 * (U @ np.linalg.inv(T) @ w1)"
      ]
    },
    {
      "cell_type": "code",
      "execution_count": null,
      "metadata": {
        "colab": {
          "base_uri": "https://localhost:8080/",
          "height": 207
        },
        "id": "0NLk0Hwef-CP",
        "outputId": "592e005e-95da-4d40-8c3b-24bf09778686"
      },
      "outputs": [],
      "source": [
        "XX = np.empty((hdth, 0))\n",
        "\n",
        "YY = np.empty((hdth, 0))\n",
        "\n",
        "fig, ((ax1), (ax2)) = plt.subplots(2, 1,figsize=(10, 2), dpi=180)\n",
        "\n",
        "for digit in range(1):\n",
        "    image_num = np.random.randint(min_images_in_class)\n",
        "    B = np.dot(W1, D[digit, image_num].reshape(n, 1)) + w1\n",
        "    H = activation(B)\n",
        "    Y = np.dot(W2, H) + w2\n",
        "    XX = np.hstack((XX, D[digit, image_num].reshape(wdth, hdth)))\n",
        "    YY = np.reshape(Y, (hdth, wdth, -1))\n",
        "\n",
        "ax1.imshow(XX, cmap='gray', aspect='equal')\n",
        "ax1.axis('off')\n",
        "ax2.imshow(YY[:, :, 0], cmap='gray', aspect='equal')\n",
        "ax2.axis('off')\n"
      ]
    }
  ],
  "metadata": {
    "colab": {
      "provenance": []
    },
    "kernelspec": {
      "display_name": "Python 3",
      "name": "python3"
    },
    "language_info": {
      "codemirror_mode": {
        "name": "ipython",
        "version": 3
      },
      "file_extension": ".py",
      "mimetype": "text/x-python",
      "name": "python",
      "nbconvert_exporter": "python",
      "pygments_lexer": "ipython3",
      "version": "3.9.6"
    }
  },
  "nbformat": 4,
  "nbformat_minor": 0
}
